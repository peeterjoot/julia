{
 "metadata": {
  "language": "Julia",
  "name": "",
  "signature": "sha256:ac47de8e9053f23b79885f36a1270df0a2430b88dd0bf1a99152f5f6368ac3a3"
 },
 "nbformat": 3,
 "nbformat_minor": 0,
 "worksheets": [
  {
   "cells": [
    {
     "cell_type": "code",
     "collapsed": false,
     "input": [
      "using JuMP\n",
      "using GLPKMathProgInterface\n",
      "#using Ipopt\n",
      "\n",
      "model = Model(solver = GLPKSolverMIP()) \n",
      "#model = Model(solver = Ipopt()) \n",
      "#model = Model() # Gurobi \n",
      "\n",
      "\n",
      "a = 2 * pi * [ -8 ; -7 ; 0 ; 7 ; 8 ] ;\n",
      "m = length( a ) ;\n",
      "\n",
      "@defVar(model, y[1:5], Int)\n",
      "\n",
      "@defVar(model, x >=0)\n",
      "\n",
      "for i in [1:m]\n",
      "    @addConstraint(model, x*y[i] == a[i])\n",
      "end\n",
      "\n",
      "\n",
      "statusMipModel = solve(model)\n",
      "print(\"Status of the problem is \", statusMipModel, \"\\n\")\n",
      "\n",
      "if statusMipModel == :Optimal\n",
      "    print (\"Optimal objective value = \", getObjectiveValue(model), \"\\nOptimal x = \", getValue(x))\n",
      "end\n",
      "\n",
      "println(\"model:\")\n",
      "model\n"
     ],
     "language": "python",
     "metadata": {},
     "outputs": [
      {
       "ename": "LoadError",
       "evalue": "Solver does not support quadratic constraints\nwhile loading In[4], in expression starting on line 22",
       "output_type": "pyerr",
       "traceback": [
        "Solver does not support quadratic constraints\nwhile loading In[4], in expression starting on line 22",
        "",
        " in addQuadratics at C:\\Users\\IBM_ADMIN\\.julia\\v0.3\\JuMP\\src\\solvers.jl:79",
        " in solveMIP at C:\\Users\\IBM_ADMIN\\.julia\\v0.3\\JuMP\\src\\solvers.jl:318",
        " in solve at C:\\Users\\IBM_ADMIN\\.julia\\v0.3\\JuMP\\src\\solvers.jl:33"
       ]
      }
     ],
     "prompt_number": 4
    },
    {
     "cell_type": "code",
     "collapsed": false,
     "input": [
      "using JuMP\n",
      "using GLPKMathProgInterface\n",
      "\n",
      "model = Model(solver = GLPKSolverMIP())\n",
      "\n",
      "a = 2 * pi * [ -8 ; -7 ; 0 ; 7 ; 8 ] ;\n",
      "as = sort(unique(abs(a))) ;\n",
      "b = as[as.>0] ;\n",
      "logb = log(b) ;\n",
      "\n",
      "m = length( b ) ;\n",
      "\n",
      "@defVar(model, logn[1:m], Int)\n",
      "\n",
      "@defVar(model, logx)\n",
      "\n",
      "for i in [1:m]\n",
      "    @addConstraint(model, logx + logn[i] == logb[i])\n",
      "end\n",
      "\n",
      "#@setObjective(model, Max, exp(logx) ) ;\n",
      "@setObjective(model, Max, logx ) ;\n",
      "\n",
      "#println(\"model: $model\")\n",
      "\n",
      "statusMipModel = solve(model) ;\n",
      "print(\"Status of the problem is \", statusMipModel, \"\\n\") ;\n",
      "\n",
      "if statusMipModel == :Optimal\n",
      "   logsolution = getValue(x) ;\n",
      "   solution = exp(logsolution) ;\n",
      "   ov = getObjectiveValue(model) ;\n",
      "   println (\"Optimal objective value = $ov\\nOptimal logx = $logsolution\\nx = $solution\" ) ;\n",
      "end\n",
      "\n",
      "println(\"model:\") ;\n",
      "model"
     ],
     "language": "python",
     "metadata": {},
     "outputs": [
      {
       "output_type": "stream",
       "stream": "stdout",
       "text": [
        "glp_intopt: optimal basis to initial LP relaxation not provided\r\n"
       ]
      },
      {
       "output_type": "stream",
       "stream": "stderr",
       "text": [
        "WARNING: Not solved to optimality, status: Unbounded\n"
       ]
      },
      {
       "output_type": "stream",
       "stream": "stdout",
       "text": [
        "Status of the problem is Unbounded\n",
        "model:\n"
       ]
      },
      {
       "latex": [
        "$$ \\begin{alignat*}{1}\\max\\quad & logx\\\\\n",
        "\\text{Subject to} \\quad & logx + logn_{1} = 3.783787215464659\\\\\n",
        " & logx + logn_{2} = 3.9173186080891815\\\\\n",
        " & logn_{i} free, \\in \\mathbb{Z}, \\quad\\forall i \\in \\{1,2\\}\\\\\n",
        " & logx free\\\\\n",
        "\\end{alignat*}\n",
        " $$"
       ],
       "metadata": {},
       "output_type": "pyout",
       "prompt_number": 3,
       "text": [
        "Maximization problem with:\n",
        " * 2 linear constraints\n",
        " * 3 variables: 2 integer\n",
        "Solver set to GLPK"
       ]
      }
     ],
     "prompt_number": 3
    },
    {
     "cell_type": "markdown",
     "metadata": {},
     "source": [
      "Solve for $x \\in \\mathbb{R}, n_i \\in \\mathbb{Z}$, where $x$, and $\\vec{n}$ are unknowns, and $\\vec{a}$ is given.  The aim is to find the biggest $x$ that solves the system:\n",
      "\n",
      "$x \\vec{n} = \\vec{a}$\n",
      "\n",
      "i.e. It is assumed that \n",
      "\n",
      "$\\vec{a} = (n_1 x, n_2 x, \\cdots)$\n",
      "\n",
      "The values of $\\vec{n}$ are not of interest, just required to exist.\n",
      "\n",
      "To transform this problem into a linear one, take elementwise logs of both sides\n",
      "\n",
      "$(\\log(a_1), \\log(a_2), \\cdots) = (\\log(x) + \\log(n_1), \\log(x) + \\log(n_2), \\cdots )$\n",
      "\n",
      "and then setup the model equations using these logarithmic quantities as the variables in question.\n",
      "\n",
      "This is now a small finite set of simple equations in logarithmic variables:\n",
      "\n",
      "$logx + logn_i = loga_i$\n"
     ]
    },
    {
     "cell_type": "code",
     "collapsed": false,
     "input": [],
     "language": "python",
     "metadata": {},
     "outputs": [],
     "prompt_number": 1
    },
    {
     "cell_type": "code",
     "collapsed": false,
     "input": [],
     "language": "python",
     "metadata": {},
     "outputs": []
    }
   ],
   "metadata": {}
  }
 ]
}