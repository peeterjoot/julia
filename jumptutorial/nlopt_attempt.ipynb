{
 "metadata": {
  "language": "Julia",
  "name": "",
  "signature": "sha256:4c7cc6b25a5ccb32125c5f89abe0d563698c3f8959863d6c024b0510e0452542"
 },
 "nbformat": 3,
 "nbformat_minor": 0,
 "worksheets": [
  {
   "cells": [
    {
     "cell_type": "code",
     "collapsed": false,
     "input": [
      "Pkg.add(\"NLopt\")"
     ],
     "language": "python",
     "metadata": {},
     "outputs": [
      {
       "output_type": "stream",
       "stream": "stderr",
       "text": [
        "INFO: Cloning cache of NLopt from git://github.com/JuliaOpt/NLopt.jl.git\n"
       ]
      },
      {
       "output_type": "stream",
       "stream": "stderr",
       "text": [
        "INFO: Installing NLopt v0.2.0\n"
       ]
      },
      {
       "output_type": "stream",
       "stream": "stderr",
       "text": [
        "INFO: Building NLopt\n"
       ]
      },
      {
       "output_type": "stream",
       "stream": "stderr",
       "text": [
        "INFO: Attempting to Create directory C:\\Users\\IBM_ADMIN\\.julia\\v0.3\\NLopt\\deps\\downloads\n"
       ]
      },
      {
       "output_type": "stream",
       "stream": "stderr",
       "text": [
        "INFO: Downloading file http://ab-initio.mit.edu/nlopt/nlopt-2.4.1-dll32.zip\n",
        "  % Total    % Received % Xferd  Average Speed   Time    Time     Time  Current\r\n",
        "                                 Dload  Upload   Total   Spent    Left  Speed\r\n",
        "\r",
        "  0     0    0     0    0     0      0      0 --:--:-- --:--:-- --:--:--     0"
       ]
      },
      {
       "output_type": "stream",
       "stream": "stderr",
       "text": [
        "\r",
        " 60  483k   60  290k    0     0   563k      0 --:--:-- --:--:-- --:--:--  563k"
       ]
      },
      {
       "output_type": "stream",
       "stream": "stderr",
       "text": [
        "\r",
        "100  483k  100  483k    0     0   688k      0 --:--:-- --:--:-- --:--:--  688k"
       ]
      },
      {
       "output_type": "stream",
       "stream": "stderr",
       "text": [
        "\r\n",
        "INFO: Done downloading file http://ab-initio.mit.edu/nlopt/nlopt-2.4.1-dll32.zip\n",
        "INFO: Attempting to Create directory C:\\Users\\IBM_ADMIN\\.julia\\v0.3\\NLopt\\deps\\downloads\n",
        "INFO: Directory C:\\Users\\IBM_ADMIN\\.julia\\v0.3\\NLopt\\deps\\downloads already created\n",
        "INFO: Downloading file http://ab-initio.mit.edu/nlopt/nlopt-2.4.1-dll64.zip\n",
        "  % Total    % Received % Xferd  Average Speed   Time    Time     Time  Current\r\n",
        "                                 Dload  Upload   Total   Spent    Left  Speed\r\n",
        "\r",
        "  0     0    0     0    0     0      0      0 --:--:-- --:--:-- --:--:--     0"
       ]
      },
      {
       "output_type": "stream",
       "stream": "stderr",
       "text": [
        "\r",
        "100  528k  100  528k    0     0   788k      0 --:--:-- --:--:-- --:--:--  788k"
       ]
      },
      {
       "output_type": "stream",
       "stream": "stderr",
       "text": [
        "\r\n",
        "INFO: Done downloading file http://ab-initio.mit.edu/nlopt/nlopt-2.4.1-dll64.zip\n",
        "INFO: Attempting to Create directory C:\\Users\\IBM_ADMIN\\.julia\\v0.3\\NLopt\\deps\\src\n",
        "INFO: Attempting to Create directory C:\\Users\\IBM_ADMIN\\.julia\\v0.3\\NLopt\\deps\\src\\w32\n",
        "INFO: Attempting to Create directory C:\\Users\\IBM_ADMIN\\.julia\\v0.3\\NLopt\\deps\\src\\w64\n",
        "INFO: Attempting to Create directory C:\\Users\\IBM_ADMIN\\.julia\\v0.3\\NLopt\\deps\\src\n",
        "INFO: Directory C:\\Users\\IBM_ADMIN\\.julia\\v0.3\\NLopt\\deps\\src already created\n",
        "INFO: Attempting to Create directory C:\\Users\\IBM_ADMIN\\.julia\\v0.3\\NLopt\\deps\\src\\w32\\matlab\n"
       ]
      },
      {
       "output_type": "stream",
       "stream": "stdout",
       "text": [
        "\r\n",
        "7-Zip [64] 9.20  Copyright (c) 1999-2010 Igor Pavlov  2010-11-18\r\n",
        "\r\n",
        "Processing archive: C:\\Users\\IBM_ADMIN\\.julia\\v0.3\\NLopt\\deps\\downloads\\nlopt-2.4.1-dll32.zip\r\n",
        "\r\n",
        "Extracting  libnlopt-0.dll\r\n",
        "Extracting  libnlopt-0.def\r\n",
        "Extracting  nlopt.f\r\n",
        "Extracting  nlopt.h\r\n",
        "Extracting  nlopt.hpp\r\n",
        "Extracting  nlopt.py\r\n",
        "Extracting  nlopt-python.cpp\r\n",
        "Extracting  setup.py\r\n",
        "Extracting  README\r\n",
        "Extracting  COPYING\r\n",
        "Extracting  COPYRIGHT\r\n",
        "Extracting  NEWS\r\n",
        "Extracting  README-WINDOWS\r\n",
        "Extracting  matlab\\NLOPT_AUGLAG_EQ.m\r\n",
        "Extracting  matlab\\NLOPT_AUGLAG.m\r\n",
        "Extracting  matlab\\NLOPT_GD_MLSL_LDS.m\r\n",
        "Extracting  matlab\\NLOPT_GD_MLSL.m\r\n",
        "Extracting  matlab\\NLOPT_GD_STOGO.m\r\n",
        "Extracting  matlab\\NLOPT_GD_STOGO_RAND.m\r\n",
        "Extracting  matlab\\NLOPT_G_MLSL_LDS.m\r\n",
        "Extracting  matlab\\NLOPT_G_MLSL.m\r\n",
        "Extracting  matlab\\NLOPT_GN_CRS2_LM.m\r\n",
        "Extracting  matlab\\NLOPT_GN_DIRECT_L.m\r\n",
        "Extracting  matlab\\NLOPT_GN_DIRECT_L_NOSCAL.m\r\n",
        "Extracting  matlab\\NLOPT_GN_DIRECT_L_RAND.m\r\n",
        "Extracting  matlab\\NLOPT_GN_DIRECT_L_RAND_NOSCAL.m\r\n",
        "Extracting  matlab\\NLOPT_GN_DIRECT.m\r\n",
        "Extracting  matlab\\NLOPT_GN_DIRECT_NOSCAL.m\r\n",
        "Extracting  matlab\\NLOPT_GN_ESCH.m\r\n",
        "Extracting  matlab\\NLOPT_GN_ISRES.m\r\n",
        "Extracting  matlab\\NLOPT_GN_MLSL_LDS.m\r\n",
        "Extracting  matlab\\NLOPT_GN_MLSL.m\r\n",
        "Extracting  matlab\\NLOPT_GN_ORIG_DIRECT_L.m\r\n",
        "Extracting  matlab\\NLOPT_GN_ORIG_DIRECT.m\r\n",
        "Extracting  matlab\\NLOPT_LD_AUGLAG_EQ.m\r\n",
        "Extracting  matlab\\NLOPT_LD_AUGLAG.m\r\n",
        "Extracting  matlab\\NLOPT_LD_CCSAQ.m\r\n",
        "Extracting  matlab\\NLOPT_LD_LBFGS.m\r\n",
        "Extracting  matlab\\NLOPT_LD_LBFGS_NOCEDAL.m\r\n",
        "Extracting  matlab\\NLOPT_LD_MMA.m\r\n",
        "Extracting  matlab\\NLOPT_LD_SLSQP.m\r\n",
        "Extracting  matlab\\NLOPT_LD_TNEWTON.m\r\n",
        "Extracting  matlab\\NLOPT_LD_TNEWTON_PRECOND.m\r\n",
        "Extracting  matlab\\NLOPT_LD_TNEWTON_PRECOND_RESTART.m\r\n",
        "Extracting  matlab\\NLOPT_LD_TNEWTON_RESTART.m\r\n",
        "Extracting  matlab\\NLOPT_LD_VAR1.m\r\n",
        "Extracting  matlab\\NLOPT_LD_VAR2.m\r\n",
        "Extracting  matlab\\NLOPT_LN_AUGLAG_EQ.m\r\n",
        "Extracting  matlab\\NLOPT_LN_AUGLAG.m\r\n",
        "Extracting  matlab\\NLOPT_LN_BOBYQA.m\r\n",
        "Extracting  matlab\\NLOPT_LN_COBYLA.m\r\n",
        "Extracting  matlab\\NLOPT_LN_NELDERMEAD.m\r\n",
        "Extracting  matlab\\NLOPT_LN_NEWUOA_BOUND.m\r\n",
        "Extracting  matlab\\NLOPT_LN_NEWUOA.m\r\n",
        "Extracting  matlab\\NLOPT_LN_PRAXIS.m\r\n",
        "Extracting  matlab\\NLOPT_LN_SBPLX.m\r\n",
        "Extracting  matlab\\nlopt_minimize_constrained.m\r\n",
        "Extracting  matlab\\nlopt_minimize.m\r\n",
        "Extracting  matlab\\nlopt_optimize.c\r\n",
        "Extracting  matlab\\nlopt_optimize.m\r\n",
        "\r\n",
        "Everything is Ok\r\n",
        "\r\n",
        "Files: 60\r\n",
        "Size:       1602081\r\n",
        "Compressed: 495108\r\n"
       ]
      },
      {
       "output_type": "stream",
       "stream": "stderr",
       "text": [
        "INFO: Attempting to Create directory C:\\Users\\IBM_ADMIN\\.julia\\v0.3\\NLopt\\deps\\src\n"
       ]
      },
      {
       "output_type": "stream",
       "stream": "stderr",
       "text": [
        "INFO: Directory C:\\Users\\IBM_ADMIN\\.julia\\v0.3\\NLopt\\deps\\src already created\n",
        "INFO: Attempting to Create directory C:\\Users\\IBM_ADMIN\\.julia\\v0.3\\NLopt\\deps\\src\\w64\\matlab\n"
       ]
      },
      {
       "output_type": "stream",
       "stream": "stdout",
       "text": [
        "\r\n",
        "7-Zip [64] 9.20  Copyright (c) 1999-2010 Igor Pavlov  2010-11-18\r\n",
        "\r\n",
        "Processing archive: C:\\Users\\IBM_ADMIN\\.julia\\v0.3\\NLopt\\deps\\downloads\\nlopt-2.4.1-dll64.zip\r\n",
        "\r\n",
        "Extracting  libnlopt-0.dll\r\n",
        "Extracting  libnlopt-0.def\r\n",
        "Extracting  nlopt.f\r\n",
        "Extracting  nlopt.h\r\n",
        "Extracting  nlopt.hpp\r\n",
        "Extracting  nlopt.py\r\n",
        "Extracting  nlopt-python.cpp\r\n",
        "Extracting  setup.py\r\n",
        "Extracting  README\r\n",
        "Extracting  COPYING\r\n",
        "Extracting  COPYRIGHT\r\n",
        "Extracting  NEWS\r\n",
        "Extracting  README-WINDOWS\r\n",
        "Extracting  matlab\\NLOPT_AUGLAG_EQ.m\r\n",
        "Extracting  matlab\\NLOPT_AUGLAG.m\r\n",
        "Extracting  matlab\\NLOPT_GD_MLSL_LDS.m\r\n",
        "Extracting  matlab\\NLOPT_GD_MLSL.m\r\n",
        "Extracting  matlab\\NLOPT_GD_STOGO.m\r\n",
        "Extracting  matlab\\NLOPT_GD_STOGO_RAND.m\r\n",
        "Extracting  matlab\\NLOPT_G_MLSL_LDS.m\r\n",
        "Extracting  matlab\\NLOPT_G_MLSL.m\r\n",
        "Extracting  matlab\\NLOPT_GN_CRS2_LM.m\r\n",
        "Extracting  matlab\\NLOPT_GN_DIRECT_L.m\r\n",
        "Extracting  matlab\\NLOPT_GN_DIRECT_L_NOSCAL.m\r\n",
        "Extracting  matlab\\NLOPT_GN_DIRECT_L_RAND.m\r\n",
        "Extracting  matlab\\NLOPT_GN_DIRECT_L_RAND_NOSCAL.m\r\n",
        "Extracting  matlab\\NLOPT_GN_DIRECT.m\r\n",
        "Extracting  matlab\\NLOPT_GN_DIRECT_NOSCAL.m\r\n",
        "Extracting  matlab\\NLOPT_GN_ESCH.m\r\n",
        "Extracting  matlab\\NLOPT_GN_ISRES.m\r\n",
        "Extracting  matlab\\NLOPT_GN_MLSL_LDS.m\r\n",
        "Extracting  matlab\\NLOPT_GN_MLSL.m\r\n",
        "Extracting  matlab\\NLOPT_GN_ORIG_DIRECT_L.m\r\n",
        "Extracting  matlab\\NLOPT_GN_ORIG_DIRECT.m\r\n",
        "Extracting  matlab\\NLOPT_LD_AUGLAG_EQ.m\r\n",
        "Extracting  matlab\\NLOPT_LD_AUGLAG.m\r\n",
        "Extracting  matlab\\NLOPT_LD_CCSAQ.m\r\n",
        "Extracting  matlab\\NLOPT_LD_LBFGS.m\r\n",
        "Extracting  matlab\\NLOPT_LD_LBFGS_NOCEDAL.m\r\n",
        "Extracting  matlab\\NLOPT_LD_MMA.m\r\n",
        "Extracting  matlab\\NLOPT_LD_SLSQP.m\r\n",
        "Extracting  matlab\\NLOPT_LD_TNEWTON.m\r\n",
        "Extracting  matlab\\NLOPT_LD_TNEWTON_PRECOND.m\r\n",
        "Extracting  matlab\\NLOPT_LD_TNEWTON_PRECOND_RESTART.m\r\n",
        "Extracting  matlab\\NLOPT_LD_TNEWTON_RESTART.m\r\n",
        "Extracting  matlab\\NLOPT_LD_VAR1.m\r\n",
        "Extracting  matlab\\NLOPT_LD_VAR2.m\r\n",
        "Extracting  matlab\\NLOPT_LN_AUGLAG_EQ.m\r\n",
        "Extracting  matlab\\NLOPT_LN_AUGLAG.m\r\n",
        "Extracting  matlab\\NLOPT_LN_BOBYQA.m\r\n",
        "Extracting  matlab\\NLOPT_LN_COBYLA.m\r\n",
        "Extracting  matlab\\NLOPT_LN_NELDERMEAD.m\r\n",
        "Extracting  matlab\\NLOPT_LN_NEWUOA_BOUND.m\r\n",
        "Extracting  matlab\\NLOPT_LN_NEWUOA.m\r\n",
        "Extracting  matlab\\NLOPT_LN_PRAXIS.m\r\n",
        "Extracting  matlab\\NLOPT_LN_SBPLX.m\r\n",
        "Extracting  matlab\\nlopt_minimize_constrained.m\r\n",
        "Extracting  matlab\\nlopt_minimize.m\r\n",
        "Extracting  matlab\\nlopt_optimize.c\r\n",
        "Extracting  matlab\\nlopt_optimize.m\r\n",
        "\r\n",
        "Everything is Ok\r\n",
        "\r\n",
        "Files: 60\r\n",
        "Size:       1932764\r\n",
        "Compressed: 541555\r\n"
       ]
      },
      {
       "output_type": "stream",
       "stream": "stderr",
       "text": [
        "INFO: Attempting to Create directory C:\\Users\\IBM_ADMIN\\.julia\\v0.3\\NLopt\\deps\\usr\\lib\n"
       ]
      },
      {
       "output_type": "stream",
       "stream": "stderr",
       "text": [
        "INFO: Changing Directory to C:\\Users\\IBM_ADMIN\\.julia\\v0.3\\NLopt\\deps\\src\\w32\n"
       ]
      },
      {
       "output_type": "stream",
       "stream": "stderr",
       "text": [
        "INFO: Changing Directory to C:\\Users\\IBM_ADMIN\\.julia\\v0.3\\NLopt\\deps\\src\\w64\n",
        "INFO: Package database updated\n"
       ]
      }
     ],
     "prompt_number": 1
    },
    {
     "cell_type": "code",
     "collapsed": false,
     "input": [
      "using JuMP\n",
      "using NLopt\n",
      "\n",
      "model = Model(solver = NLoptSolver(algorithm=:LN_COBYLA)) #:LD_MMA)) \n",
      "\n",
      "a = 2 * pi * [ -8 ; -7 ; 0 ; 7 ; 8 ] ;\n",
      "as = sort(unique(abs(a))) ;\n",
      "b = as[as.>0] ;\n",
      "logb = log(b) ;\n",
      "\n",
      "m = length( b ) ;\n",
      "\n",
      "@defVar(model, logy[1:m], Int)\n",
      "\n",
      "@defVar(model, x >=0)\n",
      "\n",
      "for i in [1:m]\n",
      "    @addConstraint(model, x + logy[i] == logb[i])\n",
      "end\n",
      "\n",
      "println(\"model: $model\")\n",
      "\n",
      "statusMipModel = solve(model)\n",
      "print(\"Status of the problem is \", statusMipModel, \"\\n\")\n",
      "\n",
      "if statusMipModel == :Optimal\n",
      "    print (\"Optimal objective value = \", getObjectiveValue(model), \"\\nOptimal x = \", getValue(x))\n",
      "end"
     ],
     "language": "python",
     "metadata": {},
     "outputs": [
      {
       "output_type": "stream",
       "stream": "stdout",
       "text": [
        "model: Min 0\n",
        "Subject to\n",
        " y[1]*x + 50.26548245743669 == 0\n",
        " y[2]*x + 43.982297150257104 == 0\n",
        " y[3]*x + 0 == 0\n",
        " y[4]*x - 43.982297150257104 == 0\n",
        " y[5]*x - 50.26548245743669 == 0\n",
        " y[i] free, integer, for all i in {1,2..4,5}\n",
        " x >= 0\n"
       ]
      },
      {
       "output_type": "stream",
       "stream": "stdout",
       "text": [
        "\n"
       ]
      },
      {
       "ename": "LoadError",
       "evalue": "`loadproblem!` has no method matching loadproblem!(::NLoptMathProgModel, ::SparseMatrixCSC{Float64,Int64}, ::Array{Float64,1}, ::Array{Float64,1}, ::Array{Float64,1}, ::Array{Float64,1}, ::Array{Float64,1}, ::Symbol)\nwhile loading In[9], in expression starting on line 19",
       "output_type": "pyerr",
       "traceback": [
        "`loadproblem!` has no method matching loadproblem!(::NLoptMathProgModel, ::SparseMatrixCSC{Float64,Int64}, ::Array{Float64,1}, ::Array{Float64,1}, ::Array{Float64,1}, ::Array{Float64,1}, ::Array{Float64,1}, ::Symbol)\nwhile loading In[9], in expression starting on line 19",
        "",
        " in solveMIP at C:\\Users\\IBM_ADMIN\\.julia\\v0.3\\JuMP\\src\\solvers.jl:309",
        " in solve at C:\\Users\\IBM_ADMIN\\.julia\\v0.3\\JuMP\\src\\solvers.jl:33"
       ]
      }
     ],
     "prompt_number": 9
    },
    {
     "cell_type": "code",
     "collapsed": false,
     "input": [
      "\n",
      "a = 2 * pi * [ -8 ; -7 ; 0 ; 7 ; 8 ] ;\n",
      "as = sort(unique(abs(a))) ;\n",
      "b = as[as.>0] ;\n",
      "logb = log(b) ;\n"
     ],
     "language": "python",
     "metadata": {},
     "outputs": [
      {
       "metadata": {},
       "output_type": "pyout",
       "prompt_number": 24,
       "text": [
        "([-50.2655,-43.9823,0.0,43.9823,50.2655],[0.0,43.9823,50.2655],[3.78379,3.91732])"
       ]
      }
     ],
     "prompt_number": 24
    },
    {
     "cell_type": "code",
     "collapsed": false,
     "input": [],
     "language": "python",
     "metadata": {},
     "outputs": []
    }
   ],
   "metadata": {}
  }
 ]
}