{
 "metadata": {
  "language": "Julia",
  "name": "",
  "signature": "sha256:32a74987fbee70fb245e4455805af74801fb4a69b25d2df1b679c7b9e063a01c"
 },
 "nbformat": 3,
 "nbformat_minor": 0,
 "worksheets": [
  {
   "cells": [
    {
     "cell_type": "code",
     "collapsed": false,
     "input": [
      "Pkg.add(\"JuMP\")"
     ],
     "language": "python",
     "metadata": {},
     "outputs": [
      {
       "output_type": "stream",
       "stream": "stderr",
       "text": [
        "INFO: Nothing to be done\n"
       ]
      }
     ],
     "prompt_number": 4
    },
    {
     "cell_type": "code",
     "collapsed": false,
     "input": [
      "Pkg.add(\"GLPKMathProgInterface\")"
     ],
     "language": "python",
     "metadata": {},
     "outputs": [
      {
       "output_type": "stream",
       "stream": "stderr",
       "text": [
        "INFO: Cloning cache of GLPK from git://github.com/JuliaOpt/GLPK.jl.git\n"
       ]
      },
      {
       "output_type": "stream",
       "stream": "stderr",
       "text": [
        "INFO: Cloning cache of GLPKMathProgInterface from git://github.com/JuliaOpt/GLPKMathProgInterface.jl.git\n"
       ]
      },
      {
       "output_type": "stream",
       "stream": "stderr",
       "text": [
        "INFO: Installing GLPK v0.2.13\n"
       ]
      },
      {
       "output_type": "stream",
       "stream": "stderr",
       "text": [
        "INFO: Installing GLPKMathProgInterface v0.1.11\n"
       ]
      },
      {
       "output_type": "stream",
       "stream": "stderr",
       "text": [
        "INFO: Building GLPK\n"
       ]
      },
      {
       "output_type": "stream",
       "stream": "stderr",
       "text": [
        "INFO: Attempting to Create directory C:\\Users\\IBM_ADMIN\\.julia\\v0.3\\GLPK\\deps\\downloads\n"
       ]
      },
      {
       "output_type": "stream",
       "stream": "stderr",
       "text": [
        "INFO: Downloading file http://downloads.sourceforge.net/project/winglpk/winglpk/GLPK-4.52/winglpk-4.52.zip\n",
        "  % Total    % Received % Xferd  Average Speed   Time    Time     Time  Current\r\n",
        "                                 Dload  Upload   Total   Spent    Left  Speed\r\n",
        "\r",
        "  0     0    0     0    0     0      0      0 --:--:-- --:--:-- --:--:--     0"
       ]
      },
      {
       "output_type": "stream",
       "stream": "stderr",
       "text": [
        "\r",
        "  0     0    0     0    0     0      0      0 --:--:-- --:--:-- --:--:--     0\r",
        "  0   345    0     0    0     0      0      0 --:--:-- --:--:-- --:--:--     0"
       ]
      },
      {
       "output_type": "stream",
       "stream": "stderr",
       "text": [
        "\r\n",
        "\r",
        " 24 8628k   24 2072k    0     0  1953k      0  0:00:04  0:00:01  0:00:03 1953k"
       ]
      },
      {
       "output_type": "stream",
       "stream": "stderr",
       "text": [
        "\r",
        " 64 8628k   64 5524k    0     0  2682k      0  0:00:03  0:00:02  0:00:01 3458k"
       ]
      },
      {
       "output_type": "stream",
       "stream": "stderr",
       "text": [
        "\r",
        "100 8628k  100 8628k    0     0  3142k      0  0:00:02  0:00:02 --:--:-- 3890k"
       ]
      },
      {
       "output_type": "stream",
       "stream": "stderr",
       "text": [
        "\r\n",
        "INFO: Done downloading file http://downloads.sourceforge.net/project/winglpk/winglpk/GLPK-4.52/winglpk-4.52.zip\n",
        "INFO: Attempting to Create directory C:\\Users\\IBM_ADMIN\\.julia\\v0.3\\GLPK\\deps\\src\n",
        "INFO: Attempting to Create directory C:\\Users\\IBM_ADMIN\\.julia\\v0.3\\GLPK\\deps\n",
        "INFO: Directory C:\\Users\\IBM_ADMIN\\.julia\\v0.3\\GLPK\\deps already created\n",
        "INFO: Attempting to Create directory C:\\Users\\IBM_ADMIN\\.julia\\v0.3\\GLPK\\deps\\src\\glpk-4.52\\w32\n"
       ]
      },
      {
       "output_type": "stream",
       "stream": "stdout",
       "text": [
        "\r\n",
        "7-Zip [64] 9.20  Copyright (c) 1999-2010 Igor Pavlov  2010-11-18\r\n",
        "\r\n",
        "Processing archive: C:\\Users\\IBM_ADMIN\\.julia\\v0.3\\GLPK\\deps\\downloads\\winglpk-4.52.zip\r\n",
        "\r\n",
        "Extracting  glpk-4.52\r\n",
        "Extracting  glpk-4.52\\aclocal.m4\r\n",
        "Extracting  glpk-4.52\\AUTHORS\r\n",
        "Extracting  glpk-4.52\\bootstrap.sh\r\n",
        "Extracting  glpk-4.52\\Build_WinGLPK.bat\r\n",
        "Extracting  glpk-4.52\\ChangeLog\r\n",
        "Extracting  glpk-4.52\\config.guess\r\n",
        "Extracting  glpk-4.52\\config.h.in\r\n",
        "Extracting  glpk-4.52\\config.sub\r\n",
        "Extracting  glpk-4.52\\configure\r\n",
        "Extracting  glpk-4.52\\configure.ac\r\n",
        "Extracting  glpk-4.52\\COPYING\r\n",
        "Extracting  glpk-4.52\\depcomp\r\n",
        "Extracting  glpk-4.52\\doc\r\n",
        "Extracting  glpk-4.52\\doc\\cnfsat.pdf\r\n",
        "Extracting  glpk-4.52\\doc\\cnfsat.tex\r\n",
        "Extracting  glpk-4.52\\doc\\glpk-java.pdf\r\n",
        "Extracting  glpk-4.52\\doc\\glpk-java.tex\r\n",
        "Extracting  glpk-4.52\\doc\\glpk.pdf\r\n",
        "Extracting  glpk-4.52\\doc\\glpk.tex\r\n",
        "Extracting  glpk-4.52\\doc\\glpk01.tex\r\n",
        "Extracting  glpk-4.52\\doc\\glpk02.tex\r\n",
        "Extracting  glpk-4.52\\doc\\glpk03.tex\r\n",
        "Extracting  glpk-4.52\\doc\\glpk04.tex\r\n",
        "Extracting  glpk-4.52\\doc\\glpk05.tex\r\n",
        "Extracting  glpk-4.52\\doc\\glpk06.tex\r\n",
        "Extracting  glpk-4.52\\doc\\glpk07.tex\r\n",
        "Extracting  glpk-4.52\\doc\\glpk08.tex\r\n",
        "Extracting  glpk-4.52\\doc\\glpk09.tex\r\n",
        "Extracting  glpk-4.52\\doc\\glpk10.tex\r\n",
        "Extracting  glpk-4.52\\doc\\glpk11.tex\r\n",
        "Extracting  glpk-4.52\\doc\\glpk12.tex\r\n",
        "Extracting  glpk-4.52\\doc\\glpk_faq.txt\r\n",
        "Extracting  glpk-4.52\\doc\\gmpl.pdf\r\n",
        "Extracting  glpk-4.52\\doc\\gmpl.tex\r\n",
        "Extracting  glpk-4.52\\doc\\graphs.pdf\r\n",
        "Extracting  glpk-4.52\\doc\\graphs.tex\r\n",
        "Extracting  glpk-4.52\\doc\\index.sty\r\n",
        "Extracting  glpk-4.52\\doc\\libglpk-java.3\r\n",
        "Extracting  glpk-4.52\\doc\\Makefile\r\n",
        "Extracting  glpk-4.52\\doc\\Makefile.am\r\n",
        "Extracting  glpk-4.52\\doc\\Makefile.in\r\n",
        "Extracting  glpk-4.52\\doc\\miplib2.txt\r\n",
        "Extracting  glpk-4.52\\doc\\miplib3.txt\r\n",
        "Extracting  glpk-4.52\\doc\\mybib.bib\r\n",
        "Extracting  glpk-4.52\\doc\\netlib.txt\r\n",
        "Extracting  glpk-4.52\\doc\\notes\r\n",
        "Extracting  glpk-4.52\\doc\\notes\\dfeas.pdf\r\n",
        "Extracting  glpk-4.52\\doc\\notes\\gomory.pdf\r\n",
        "Extracting  glpk-4.52\\doc\\notes\\keller.pdf\r\n",
        "Extracting  glpk-4.52\\doc\\notes\\scaling.pdf\r\n",
        "Extracting  glpk-4.52\\doc\\notes\\updating.pdf\r\n",
        "Extracting  glpk-4.52\\doc\\swimlanes.eps\r\n",
        "Extracting  glpk-4.52\\doc\\swimlanes.graphml\r\n",
        "Extracting  glpk-4.52\\doc\\winglpk.pdf\r\n",
        "Extracting  glpk-4.52\\doc\\winglpk.tex\r\n",
        "Extracting  glpk-4.52\\Doxyfile\r\n",
        "Extracting  glpk-4.52\\doxyfilter\r\n",
        "Extracting  glpk-4.52\\examples\r\n",
        "Extracting  glpk-4.52\\examples\\assign.mod\r\n",
        "Extracting  glpk-4.52\\examples\\bpp.mod\r\n",
        "Extracting  glpk-4.52\\examples\\c\r\n",
        "Extracting  glpk-4.52\\examples\\c\\glp_error_hook_demo.c\r\n",
        "Extracting  glpk-4.52\\examples\\cal.mod\r\n",
        "Extracting  glpk-4.52\\examples\\cf12a.mod\r\n",
        "Extracting  glpk-4.52\\examples\\cf12b.mod\r\n",
        "Extracting  glpk-4.52\\examples\\cflsq.mod\r\n",
        "Extracting  glpk-4.52\\examples\\color.mod\r\n",
        "Extracting  glpk-4.52\\examples\\cplex\r\n",
        "Extracting  glpk-4.52\\examples\\cplex\\concorde.txt\r\n",
        "Extracting  glpk-4.52\\examples\\cplex\\cplex.c\r\n",
        "Extracting  glpk-4.52\\examples\\cplex\\cplex.h\r\n",
        "Extracting  glpk-4.52\\examples\\cplex\\README\r\n",
        "Extracting  glpk-4.52\\examples\\cpp.mod\r\n",
        "Extracting  glpk-4.52\\examples\\crypto.mod\r\n",
        "Extracting  glpk-4.52\\examples\\csv\r\n",
        "Extracting  glpk-4.52\\examples\\csv\\distances.csv\r\n",
        "Extracting  glpk-4.52\\examples\\csv\\markets.csv\r\n",
        "Extracting  glpk-4.52\\examples\\csv\\parameters.csv\r\n",
        "Extracting  glpk-4.52\\examples\\csv\\plants.csv\r\n",
        "Extracting  glpk-4.52\\examples\\csv\\transp_csv.mod\r\n",
        "Extracting  glpk-4.52\\examples\\dbf\r\n",
        "Extracting  glpk-4.52\\examples\\dbf\\cultural_pres.dbf\r\n",
        "Extracting  glpk-4.52\\examples\\dbf\\ForestMgt_Model_I_GIS_dbf.mod\r\n",
        "Extracting  glpk-4.52\\examples\\dbf\\Forest_Cost.dbf\r\n",
        "Extracting  glpk-4.52\\examples\\dbf\\mgt_year.dbf\r\n",
        "Extracting  glpk-4.52\\examples\\dbf\\NetRev_Table.dbf\r\n",
        "Extracting  glpk-4.52\\examples\\dbf\\README\r\n",
        "Extracting  glpk-4.52\\examples\\dbf\\stands.dbf\r\n",
        "Extracting  glpk-4.52\\examples\\dbf\\standtype.dbf\r\n",
        "Extracting  glpk-4.52\\examples\\dbf\\TCost_Table.dbf\r\n",
        "Extracting  glpk-4.52\\examples\\dbf\\Yield_Table_Vol.dbf\r\n",
        "Extracting  glpk-4.52\\examples\\dea.mod\r\n",
        "Extracting  glpk-4.52\\examples\\diet.mod\r\n",
        "Extracting  glpk-4.52\\examples\\dist.mod\r\n",
        "Extracting  glpk-4.52\\examples\\egypt.mod\r\n",
        "Extracting  glpk-4.52\\examples\\fctp.mod\r\n",
        "Extracting  glpk-4.52\\examples\\food.mod\r\n",
        "Extracting  glpk-4.52\\examples\\food2.mod\r\n",
        "Extracting  glpk-4.52\\"
       ]
      },
      {
       "output_type": "stream",
       "stream": "stdout",
       "text": [
        "examples\\gap.mod\r\n",
        "Extracting  glpk-4.52\\examples\\glpsol.c\r\n",
        "Extracting  glpk-4.52\\examples\\graph.mod\r\n",
        "Extracting  glpk-4.52\\examples\\hashi.mod\r\n",
        "Extracting  glpk-4.52\\examples\\huge.mod\r\n",
        "Extracting  glpk-4.52\\examples\\INDEX\r\n",
        "Extracting  glpk-4.52\\examples\\iptsamp.c\r\n",
        "Extracting  glpk-4.52\\examples\\java\r\n",
        "Extracting  glpk-4.52\\examples\\java\\application.png\r\n",
        "Extracting  glpk-4.52\\examples\\java\\application.svg\r\n",
        "Extracting  glpk-4.52\\examples\\java\\BranchDown.java\r\n",
        "Extracting  glpk-4.52\\examples\\java\\ErrorDemo.class\r\n",
        "Extracting  glpk-4.52\\examples\\java\\ErrorDemo.java\r\n",
        "Extracting  glpk-4.52\\examples\\java\\Gmpl.class\r\n",
        "Extracting  glpk-4.52\\examples\\java\\Gmpl.java\r\n",
        "Extracting  glpk-4.52\\examples\\java\\GmplSwing.java\r\n",
        "Extracting  glpk-4.52\\examples\\java\\LinOrd.class\r\n",
        "Extracting  glpk-4.52\\examples\\java\\LinOrd.java\r\n",
        "Extracting  glpk-4.52\\examples\\java\\Lp.class\r\n",
        "Extracting  glpk-4.52\\examples\\java\\Lp.java\r\n",
        "Extracting  glpk-4.52\\examples\\java\\marbles.mod\r\n",
        "Extracting  glpk-4.52\\examples\\java\\MinimumCostFlow.class\r\n",
        "Extracting  glpk-4.52\\examples\\java\\MinimumCostFlow.java\r\n",
        "Extracting  glpk-4.52\\examples\\java\\Mip.java\r\n",
        "Extracting  glpk-4.52\\examples\\java\\OutOfMemory.class\r\n",
        "Extracting  glpk-4.52\\examples\\java\\OutOfMemory.java\r\n",
        "Extracting  glpk-4.52\\examples\\java\\Relax4.class\r\n",
        "Extracting  glpk-4.52\\examples\\java\\Relax4.java\r\n",
        "Extracting  glpk-4.52\\examples\\java\\sample.min\r\n",
        "Extracting  glpk-4.52\\examples\\java\\tiw56r72.mat\r\n",
        "Extracting  glpk-4.52\\examples\\jssp.mod\r\n",
        "Extracting  glpk-4.52\\examples\\magic.mod\r\n",
        "Extracting  glpk-4.52\\examples\\Makefile.am\r\n",
        "Extracting  glpk-4.52\\examples\\Makefile.in\r\n",
        "Extracting  glpk-4.52\\examples\\maxcut.mod\r\n",
        "Extracting  glpk-4.52\\examples\\maxflow.mod\r\n",
        "Extracting  glpk-4.52\\examples\\mfasp.mod\r\n",
        "Extracting  glpk-4.52\\examples\\mfvsp.mod\r\n",
        "Extracting  glpk-4.52\\examples\\min01ks.mod\r\n",
        "Extracting  glpk-4.52\\examples\\misp.mod\r\n",
        "Extracting  glpk-4.52\\examples\\misp1.dat\r\n",
        "Extracting  glpk-4.52\\examples\\misp2.dat\r\n",
        "Extracting  glpk-4.52\\examples\\money.mod\r\n",
        "Extracting  glpk-4.52\\examples\\mplsamp1.c\r\n",
        "Extracting  glpk-4.52\\examples\\mplsamp2.c\r\n",
        "Extracting  glpk-4.52\\examples\\murtagh.mps\r\n",
        "Extracting  glpk-4.52\\examples\\mvcp.mod\r\n",
        "Extracting  glpk-4.52\\examples\\netgen.c\r\n",
        "Extracting  glpk-4.52\\examples\\numbrix.mod\r\n",
        "Extracting  glpk-4.52\\examples\\pbn\r\n",
        "Extracting  glpk-4.52\\examples\\pbn\\9dom.dat\r\n",
        "Extracting  glpk-4.52\\examples\\pbn\\bucks.dat\r\n",
        "Extracting  glpk-4.52\\examples\\pbn\\cat.dat\r\n",
        "Extracting  glpk-4.52\\examples\\pbn\\dancer.dat\r\n",
        "Extracting  glpk-4.52\\examples\\pbn\\dragon.dat\r\n",
        "Extracting  glpk-4.52\\examples\\pbn\\edge.dat\r\n",
        "Extracting  glpk-4.52\\examples\\pbn\\forever.dat\r\n",
        "Extracting  glpk-4.52\\examples\\pbn\\knot.dat\r\n",
        "Extracting  glpk-4.52\\examples\\pbn\\light.dat\r\n",
        "Extracting  glpk-4.52\\examples\\pbn\\mum.dat\r\n",
        "Extracting  glpk-4.52\\examples\\pbn\\pbn.mod\r\n",
        "Extracting  glpk-4.52\\examples\\pbn\\pbn.pdf\r\n",
        "Extracting  glpk-4.52\\examples\\pbn\\pbn.tex\r\n",
        "Extracting  glpk-4.52\\examples\\pbn\\petro.dat\r\n",
        "Extracting  glpk-4.52\\examples\\pbn\\README\r\n",
        "Extracting  glpk-4.52\\examples\\pbn\\skid.dat\r\n",
        "Extracting  glpk-4.52\\examples\\pbn\\swing.dat\r\n",
        "Extracting  glpk-4.52\\examples\\plan.lp\r\n",
        "Extracting  glpk-4.52\\examples\\plan.mod\r\n",
        "Extracting  glpk-4.52\\examples\\plan.mps\r\n",
        "Extracting  glpk-4.52\\examples\\prod.mod\r\n",
        "Extracting  glpk-4.52\\examples\\qfit.mod\r\n",
        "Extracting  glpk-4.52\\examples\\queens.mod\r\n",
        "Extracting  glpk-4.52\\examples\\samp1.mps\r\n",
        "Extracting  glpk-4.52\\examples\\samp2.mps\r\n",
        "Extracting  glpk-4.52\\examples\\sample.asn\r\n",
        "Extracting  glpk-4.52\\examples\\sample.c\r\n",
        "Extracting  glpk-4.52\\examples\\sample.clq\r\n",
        "Extracting  glpk-4.52\\examples\\sample.cnf\r\n",
        "Extracting  glpk-4.52\\examples\\sample.col\r\n",
        "Extracting  glpk-4.52\\examples\\sample.max\r\n",
        "Extracting  glpk-4.52\\examples\\sample.min\r\n",
        "Extracting  glpk-4.52\\examples\\sat.mod\r\n",
        "Extracting  glpk-4.52\\examples\\shiftcover.mod\r\n",
        "Extracting  glpk-4.52\\examples\\shikaku.mod\r\n",
        "Extracting  glpk-4.52\\examples\\sorting.mod\r\n",
        "Extracting  glpk-4.52\\examples\\spp.mod\r\n",
        "Extracting  glpk-4.52\\examples\\spxsamp1.c\r\n",
        "Extracting  glpk-4.52\\examples\\spxsamp2.c\r\n",
        "Extracting  glpk-4.52\\examples\\sql\r\n",
        "Extracting  glpk-4.52\\examples\\sql\\glpk.mdb\r\n",
        "Extracting  glpk-4.52\\examples\\sql\\mysql_setup.sh\r\n",
        "Extracting  glpk-4.52\\examples\\sql\\README\r\n",
        "Extracting  glpk-4.52\\examples\\sql\\sudoku.sql\r\n",
        "Ext"
       ]
      },
      {
       "output_type": "stream",
       "stream": "stdout",
       "text": [
        "racting  glpk-4.52\\examples\\sql\\sudoku.xls\r\n",
        "Extracting  glpk-4.52\\examples\\sql\\sudoku_access.mod\r\n",
        "Extracting  glpk-4.52\\examples\\sql\\sudoku_excel.mod\r\n",
        "Extracting  glpk-4.52\\examples\\sql\\sudoku_mysql.mod\r\n",
        "Extracting  glpk-4.52\\examples\\sql\\sudoku_odbc.mod\r\n",
        "Extracting  glpk-4.52\\examples\\sql\\transp.sql\r\n",
        "Extracting  glpk-4.52\\examples\\sql\\transp_access.mod\r\n",
        "Extracting  glpk-4.52\\examples\\sql\\transp_mysql.mod\r\n",
        "Extracting  glpk-4.52\\examples\\sql\\transp_odbc.mod\r\n",
        "Extracting  glpk-4.52\\examples\\stigler.mod\r\n",
        "Extracting  glpk-4.52\\examples\\sudoku.dat\r\n",
        "Extracting  glpk-4.52\\examples\\sudoku.mod\r\n",
        "Extracting  glpk-4.52\\examples\\t1.cs\r\n",
        "Extracting  glpk-4.52\\examples\\tas.mod\r\n",
        "Extracting  glpk-4.52\\examples\\todd.mod\r\n",
        "Extracting  glpk-4.52\\examples\\train.mod\r\n",
        "Extracting  glpk-4.52\\examples\\transp.mod\r\n",
        "Extracting  glpk-4.52\\examples\\trick.mod\r\n",
        "Extracting  glpk-4.52\\examples\\tsp.mod\r\n",
        "Extracting  glpk-4.52\\examples\\xyacfs.mod\r\n",
        "Extracting  glpk-4.52\\examples\\yacfs.mod\r\n",
        "Extracting  glpk-4.52\\examples\\zebra.mod\r\n",
        "Extracting  glpk-4.52\\getlastfragment.awk\r\n",
        "Extracting  glpk-4.52\\INSTALL\r\n",
        "Extracting  glpk-4.52\\install-sh\r\n",
        "Extracting  glpk-4.52\\ltmain.sh\r\n",
        "Extracting  glpk-4.52\\m4\r\n",
        "Extracting  glpk-4.52\\m4\\libtool.m4\r\n",
        "Extracting  glpk-4.52\\m4\\ltoptions.m4\r\n",
        "Extracting  glpk-4.52\\m4\\ltsugar.m4\r\n",
        "Extracting  glpk-4.52\\m4\\ltversion.m4\r\n",
        "Extracting  glpk-4.52\\m4\\lt~obsolete.m4\r\n",
        "Extracting  glpk-4.52\\Makefile\r\n",
        "Extracting  glpk-4.52\\Makefile.am\r\n",
        "Extracting  glpk-4.52\\Makefile.in\r\n",
        "Extracting  glpk-4.52\\missing\r\n",
        "Extracting  glpk-4.52\\NEWS\r\n",
        "Extracting  glpk-4.52\\patch\r\n",
        "Extracting  glpk-4.52\\patch\\README\r\n",
        "Extracting  glpk-4.52\\patch.bat\r\n",
        "Extracting  glpk-4.52\\README\r\n",
        "Extracting  glpk-4.52\\src\r\n",
        "Extracting  glpk-4.52\\src\\amd\r\n",
        "Extracting  glpk-4.52\\src\\amd\\amd.h\r\n",
        "Extracting  glpk-4.52\\src\\amd\\amd_1.c\r\n",
        "Extracting  glpk-4.52\\src\\amd\\amd_2.c\r\n",
        "Extracting  glpk-4.52\\src\\amd\\amd_aat.c\r\n",
        "Extracting  glpk-4.52\\src\\amd\\amd_control.c\r\n",
        "Extracting  glpk-4.52\\src\\amd\\amd_defaults.c\r\n",
        "Extracting  glpk-4.52\\src\\amd\\amd_dump.c\r\n",
        "Extracting  glpk-4.52\\src\\amd\\amd_info.c\r\n",
        "Extracting  glpk-4.52\\src\\amd\\amd_internal.h\r\n",
        "Extracting  glpk-4.52\\src\\amd\\amd_order.c\r\n",
        "Extracting  glpk-4.52\\src\\amd\\amd_postorder.c\r\n",
        "Extracting  glpk-4.52\\src\\amd\\amd_post_tree.c\r\n",
        "Extracting  glpk-4.52\\src\\amd\\amd_preprocess.c\r\n",
        "Extracting  glpk-4.52\\src\\amd\\amd_valid.c\r\n",
        "Extracting  glpk-4.52\\src\\amd\\COPYING\r\n",
        "Extracting  glpk-4.52\\src\\amd\\README\r\n",
        "Extracting  glpk-4.52\\src\\bflib\r\n",
        "Extracting  glpk-4.52\\src\\bflib\\fhv.c\r\n",
        "Extracting  glpk-4.52\\src\\bflib\\fhv.h\r\n",
        "Extracting  glpk-4.52\\src\\bflib\\fhvint.c\r\n",
        "Extracting  glpk-4.52\\src\\bflib\\fhvint.h\r\n",
        "Extracting  glpk-4.52\\src\\bflib\\luf.c\r\n",
        "Extracting  glpk-4.52\\src\\bflib\\luf.h\r\n",
        "Extracting  glpk-4.52\\src\\bflib\\lufint.c\r\n",
        "Extracting  glpk-4.52\\src\\bflib\\lufint.h\r\n",
        "Extracting  glpk-4.52\\src\\bflib\\sgf.c\r\n",
        "Extracting  glpk-4.52\\src\\bflib\\sgf.h\r\n",
        "Extracting  glpk-4.52\\src\\bflib\\sva.c\r\n",
        "Extracting  glpk-4.52\\src\\bflib\\sva.h\r\n",
        "Extracting  glpk-4.52\\src\\cglib\r\n",
        "Extracting  glpk-4.52\\src\\cglib\\cfg.c\r\n",
        "Extracting  glpk-4.52\\src\\cglib\\cfg.h\r\n",
        "Extracting  glpk-4.52\\src\\cglib\\cfg1.c\r\n",
        "Extracting  glpk-4.52\\src\\colamd\r\n",
        "Extracting  glpk-4.52\\src\\colamd\\colamd.c\r\n",
        "Extracting  glpk-4.52\\src\\colamd\\colamd.h\r\n",
        "Extracting  glpk-4.52\\src\\colamd\\COPYING\r\n",
        "Extracting  glpk-4.52\\src\\colamd\\README\r\n",
        "Extracting  glpk-4.52\\src\\env\r\n",
        "Extracting  glpk-4.52\\src\\env\\alloc.c\r\n",
        "Extracting  glpk-4.52\\src\\env\\env.c\r\n",
        "Extracting  glpk-4.52\\src\\env\\env.h\r\n",
        "Extracting  glpk-4.52\\src\\env\\error.c\r\n",
        "Extracting  glpk-4.52\\src\\env\\stdc.h\r\n",
        "Extracting  glpk-4.52\\src\\env\\stdout.c\r\n",
        "Extracting  glpk-4.52\\src\\env\\time.c\r\n",
        "Extracting  glpk-4.52\\src\\env\\tls.c\r\n",
        "Extracting  glpk-4.52\\src\\env2.h\r\n",
        "Extracting  glpk-4.52\\src\\glpapi.h\r\n",
        "Extracting  glpk-4.52\\src\\glpapi01.c\r\n",
        "Extracting  glpk-4.52\\src\\glpapi02.c\r\n",
        "Extracting  glpk-4.52\\src\\glpapi03.c\r\n",
        "Extracting  glpk-4.52\\src\\glpapi04.c\r\n",
        "Extracting  glpk-4.52\\src\\glpapi05.c\r\n",
        "Extracting  glpk-4.52\\src\\glpapi06.c\r\n",
        "Extracting  glpk-4.52\\src\\glpapi07.c\r\n",
        "Extracting  glpk-4.52\\src\\glpapi08.c\r\n",
        "Extracting  glpk-4.52\\src\\glpapi09.c\r\n",
        "Extracting  glpk-4.52\\src\\glpapi10.c\r\n",
        "Extracting  glpk-4.52\\src\\glpapi11.c\r\n",
        "Extracting  glpk-4.52\\src\\glpapi12.c\r\n",
        "Extracting  glpk-4.52\\src\\glpapi13.c\r\n",
        "Extracting  glpk-4.52\\src\\glpapi14.c\r\n",
        "Ext"
       ]
      },
      {
       "output_type": "stream",
       "stream": "stdout",
       "text": [
        "racting  glpk-4.52\\src\\glpapi15.c\r\n",
        "Extracting  glpk-4.52\\src\\glpapi16.c\r\n",
        "Extracting  glpk-4.52\\src\\glpapi17.c\r\n",
        "Extracting  glpk-4.52\\src\\glpapi18.c\r\n",
        "Extracting  glpk-4.52\\src\\glpapi19.c\r\n",
        "Extracting  glpk-4.52\\src\\glpapi20.c\r\n",
        "Extracting  glpk-4.52\\src\\glpapi21.c\r\n",
        "Extracting  glpk-4.52\\src\\glpavl.c\r\n",
        "Extracting  glpk-4.52\\src\\glpavl.h\r\n",
        "Extracting  glpk-4.52\\src\\glpbfd.c\r\n",
        "Extracting  glpk-4.52\\src\\glpbfd.h\r\n",
        "Extracting  glpk-4.52\\src\\glpbfx.c\r\n",
        "Extracting  glpk-4.52\\src\\glpbfx.h\r\n",
        "Extracting  glpk-4.52\\src\\glpcpx.c\r\n",
        "Extracting  glpk-4.52\\src\\glpdmx.c\r\n",
        "Extracting  glpk-4.52\\src\\glpenv07.c\r\n",
        "Extracting  glpk-4.52\\src\\glpenv08.c\r\n",
        "Extracting  glpk-4.52\\src\\glpgmp.c\r\n",
        "Extracting  glpk-4.52\\src\\glpgmp.h\r\n",
        "Extracting  glpk-4.52\\src\\glphbm.c\r\n",
        "Extracting  glpk-4.52\\src\\glphbm.h\r\n",
        "Extracting  glpk-4.52\\src\\glpini01.c\r\n",
        "Extracting  glpk-4.52\\src\\glpini02.c\r\n",
        "Extracting  glpk-4.52\\src\\glpios.h\r\n",
        "Extracting  glpk-4.52\\src\\glpios01.c\r\n",
        "Extracting  glpk-4.52\\src\\glpios02.c\r\n",
        "Extracting  glpk-4.52\\src\\glpios03.c\r\n",
        "Extracting  glpk-4.52\\src\\glpios04.c\r\n",
        "Extracting  glpk-4.52\\src\\glpios05.c\r\n",
        "Extracting  glpk-4.52\\src\\glpios06.c\r\n",
        "Extracting  glpk-4.52\\src\\glpios07.c\r\n",
        "Extracting  glpk-4.52\\src\\glpios08.c\r\n",
        "Extracting  glpk-4.52\\src\\glpios09.c\r\n",
        "Extracting  glpk-4.52\\src\\glpios10.c\r\n",
        "Extracting  glpk-4.52\\src\\glpios11.c\r\n",
        "Extracting  glpk-4.52\\src\\glpios12.c\r\n",
        "Extracting  glpk-4.52\\src\\glpipm.c\r\n",
        "Extracting  glpk-4.52\\src\\glpipm.h\r\n",
        "Extracting  glpk-4.52\\src\\glpk.h\r\n",
        "Extracting  glpk-4.52\\src\\glplib.h\r\n",
        "Extracting  glpk-4.52\\src\\glplib03.c\r\n",
        "Extracting  glpk-4.52\\src\\glplpf.c\r\n",
        "Extracting  glpk-4.52\\src\\glplpf.h\r\n",
        "Extracting  glpk-4.52\\src\\glplpx.h\r\n",
        "Extracting  glpk-4.52\\src\\glplpx01.c\r\n",
        "Extracting  glpk-4.52\\src\\glplpx02.c\r\n",
        "Extracting  glpk-4.52\\src\\glplpx03.c\r\n",
        "Extracting  glpk-4.52\\src\\glplux.c\r\n",
        "Extracting  glpk-4.52\\src\\glplux.h\r\n",
        "Extracting  glpk-4.52\\src\\glpmat.c\r\n",
        "Extracting  glpk-4.52\\src\\glpmat.h\r\n",
        "Extracting  glpk-4.52\\src\\glpmpl.h\r\n",
        "Extracting  glpk-4.52\\src\\glpmpl01.c\r\n",
        "Extracting  glpk-4.52\\src\\glpmpl02.c\r\n",
        "Extracting  glpk-4.52\\src\\glpmpl03.c\r\n",
        "Extracting  glpk-4.52\\src\\glpmpl04.c\r\n",
        "Extracting  glpk-4.52\\src\\glpmpl05.c\r\n",
        "Extracting  glpk-4.52\\src\\glpmpl06.c\r\n",
        "Extracting  glpk-4.52\\src\\glpmps.c\r\n",
        "Extracting  glpk-4.52\\src\\glpnet03.c\r\n",
        "Extracting  glpk-4.52\\src\\glpnet04.c\r\n",
        "Extracting  glpk-4.52\\src\\glpnet05.c\r\n",
        "Extracting  glpk-4.52\\src\\glpnpp.h\r\n",
        "Extracting  glpk-4.52\\src\\glpnpp01.c\r\n",
        "Extracting  glpk-4.52\\src\\glpnpp02.c\r\n",
        "Extracting  glpk-4.52\\src\\glpnpp03.c\r\n",
        "Extracting  glpk-4.52\\src\\glpnpp04.c\r\n",
        "Extracting  glpk-4.52\\src\\glpnpp05.c\r\n",
        "Extracting  glpk-4.52\\src\\glpnpp06.c\r\n",
        "Extracting  glpk-4.52\\src\\glprgr.c\r\n",
        "Extracting  glpk-4.52\\src\\glprgr.h\r\n",
        "Extracting  glpk-4.52\\src\\glpscf.c\r\n",
        "Extracting  glpk-4.52\\src\\glpscf.h\r\n",
        "Extracting  glpk-4.52\\src\\glpscl.c\r\n",
        "Extracting  glpk-4.52\\src\\glpsdf.c\r\n",
        "Extracting  glpk-4.52\\src\\glpsdf.h\r\n",
        "Extracting  glpk-4.52\\src\\glpspm.c\r\n",
        "Extracting  glpk-4.52\\src\\glpspm.h\r\n",
        "Extracting  glpk-4.52\\src\\glpspx.h\r\n",
        "Extracting  glpk-4.52\\src\\glpspx01.c\r\n",
        "Extracting  glpk-4.52\\src\\glpspx02.c\r\n",
        "Extracting  glpk-4.52\\src\\glpsql.c\r\n",
        "Extracting  glpk-4.52\\src\\glpsql.h\r\n",
        "Extracting  glpk-4.52\\src\\glpssx.h\r\n",
        "Extracting  glpk-4.52\\src\\glpssx01.c\r\n",
        "Extracting  glpk-4.52\\src\\glpssx02.c\r\n",
        "Extracting  glpk-4.52\\src\\glptsp.c\r\n",
        "Extracting  glpk-4.52\\src\\glptsp.h\r\n",
        "Extracting  glpk-4.52\\src\\Makefile.am\r\n",
        "Extracting  glpk-4.52\\src\\Makefile.in\r\n",
        "Extracting  glpk-4.52\\src\\minisat\r\n",
        "Extracting  glpk-4.52\\src\\minisat\\LICENSE\r\n",
        "Extracting  glpk-4.52\\src\\minisat\\minisat.c\r\n",
        "Extracting  glpk-4.52\\src\\minisat\\minisat.h\r\n",
        "Extracting  glpk-4.52\\src\\minisat\\README\r\n",
        "Extracting  glpk-4.52\\src\\misc\r\n",
        "Extracting  glpk-4.52\\src\\misc\\bignum.c\r\n",
        "Extracting  glpk-4.52\\src\\misc\\bignum.h\r\n",
        "Extracting  glpk-4.52\\src\\misc\\dmp.c\r\n",
        "Extracting  glpk-4.52\\src\\misc\\dmp.h\r\n",
        "Extracting  glpk-4.52\\src\\misc\\ffalg.c\r\n",
        "Extracting  glpk-4.52\\src\\misc\\ffalg.h\r\n",
        "Extracting  glpk-4.52\\src\\misc\\jd.c\r\n",
        "Extracting  glpk-4.52\\src\\misc\\jd.h\r\n",
        "Extracting  glpk-4.52\\src\\misc\\keller.c\r\n",
        "Extracting  glpk-4.52\\src\\misc\\keller.h\r\n",
        "Extracting  glpk-4.52\\src\\misc\\mc13d.c\r\n",
        "Extracting  glpk-4.52\\src\\misc\\mc13d.h\r\n",
        "Extracting  glpk-4.52\\src\\misc\\mc21a.c\r\n",
        "Extracting  glpk-4.52\\src\\misc\\mc21a.h\r\n",
        "Extracting  glpk-4.52\\src\\misc\\okalg.c\r\n",
        "Extracting  glpk-4.52\\src\\misc\\okalg.h"
       ]
      },
      {
       "output_type": "stream",
       "stream": "stdout",
       "text": [
        "\r\n",
        "Extracting  glpk-4.52\\src\\misc\\qmd.c\r\n",
        "Extracting  glpk-4.52\\src\\misc\\qmd.h\r\n",
        "Extracting  glpk-4.52\\src\\misc\\relax4.c\r\n",
        "Extracting  glpk-4.52\\src\\misc\\relax4.h\r\n",
        "Extracting  glpk-4.52\\src\\misc\\rng.c\r\n",
        "Extracting  glpk-4.52\\src\\misc\\rng.h\r\n",
        "Extracting  glpk-4.52\\src\\misc\\rng1.c\r\n",
        "Extracting  glpk-4.52\\src\\misc\\triang.c\r\n",
        "Extracting  glpk-4.52\\src\\misc\\triang.h\r\n",
        "Extracting  glpk-4.52\\src\\misc\\wclique.c\r\n",
        "Extracting  glpk-4.52\\src\\misc\\wclique.h\r\n",
        "Extracting  glpk-4.52\\src\\misc\\wclique1.c\r\n",
        "Extracting  glpk-4.52\\src\\misc\\wclique1.h\r\n",
        "Extracting  glpk-4.52\\src\\proxy\r\n",
        "Extracting  glpk-4.52\\src\\proxy\\main.c\r\n",
        "Extracting  glpk-4.52\\src\\proxy\\proxy.c\r\n",
        "Extracting  glpk-4.52\\src\\proxy\\proxy.h\r\n",
        "Extracting  glpk-4.52\\src\\proxy\\proxy1.c\r\n",
        "Extracting  glpk-4.52\\src\\zlib\r\n",
        "Extracting  glpk-4.52\\src\\zlib\\adler32.c\r\n",
        "Extracting  glpk-4.52\\src\\zlib\\compress.c\r\n",
        "Extracting  glpk-4.52\\src\\zlib\\crc32.c\r\n",
        "Extracting  glpk-4.52\\src\\zlib\\crc32.h\r\n",
        "Extracting  glpk-4.52\\src\\zlib\\deflate.c\r\n",
        "Extracting  glpk-4.52\\src\\zlib\\deflate.h\r\n",
        "Extracting  glpk-4.52\\src\\zlib\\gzclose.c\r\n",
        "Extracting  glpk-4.52\\src\\zlib\\gzguts.h\r\n",
        "Extracting  glpk-4.52\\src\\zlib\\gzlib.c\r\n",
        "Extracting  glpk-4.52\\src\\zlib\\gzread.c\r\n",
        "Extracting  glpk-4.52\\src\\zlib\\gzwrite.c\r\n",
        "Extracting  glpk-4.52\\src\\zlib\\inffast.c\r\n",
        "Extracting  glpk-4.52\\src\\zlib\\inffast.h\r\n",
        "Extracting  glpk-4.52\\src\\zlib\\inffixed.h\r\n",
        "Extracting  glpk-4.52\\src\\zlib\\inflate.c\r\n",
        "Extracting  glpk-4.52\\src\\zlib\\inflate.h\r\n",
        "Extracting  glpk-4.52\\src\\zlib\\inftrees.c\r\n",
        "Extracting  glpk-4.52\\src\\zlib\\inftrees.h\r\n",
        "Extracting  glpk-4.52\\src\\zlib\\README\r\n",
        "Extracting  glpk-4.52\\src\\zlib\\trees.c\r\n",
        "Extracting  glpk-4.52\\src\\zlib\\trees.h\r\n",
        "Extracting  glpk-4.52\\src\\zlib\\uncompr.c\r\n",
        "Extracting  glpk-4.52\\src\\zlib\\zconf.h\r\n",
        "Extracting  glpk-4.52\\src\\zlib\\zio.c\r\n",
        "Extracting  glpk-4.52\\src\\zlib\\zio.h\r\n",
        "Extracting  glpk-4.52\\src\\zlib\\zlib.h\r\n",
        "Extracting  glpk-4.52\\src\\zlib\\zsymb.h\r\n",
        "Extracting  glpk-4.52\\src\\zlib\\zutil.c\r\n",
        "Extracting  glpk-4.52\\src\\zlib\\zutil.h\r\n",
        "Extracting  glpk-4.52\\swig\r\n",
        "Extracting  glpk-4.52\\swig\\glpk.i\r\n",
        "Extracting  glpk-4.52\\swig\\GlpkCallback.java\r\n",
        "Extracting  glpk-4.52\\swig\\GlpkCallbackListener.java\r\n",
        "Extracting  glpk-4.52\\swig\\GlpkException.java\r\n",
        "Extracting  glpk-4.52\\swig\\GlpkTerminal.java\r\n",
        "Extracting  glpk-4.52\\swig\\GlpkTerminalListener.java\r\n",
        "Extracting  glpk-4.52\\swig\\glpk_java.h\r\n",
        "Extracting  glpk-4.52\\swig\\glpk_java.i\r\n",
        "Extracting  glpk-4.52\\swig\\glpk_javadoc.i\r\n",
        "Extracting  glpk-4.52\\swig\\glpk_java_arrays.i\r\n",
        "Extracting  glpk-4.52\\swig\\glpk_java_structures.i\r\n",
        "Extracting  glpk-4.52\\swig\\Makefile.am\r\n",
        "Extracting  glpk-4.52\\swig\\Makefile.in\r\n",
        "Extracting  glpk-4.52\\swig\\pom.xml\r\n",
        "Extracting  glpk-4.52\\swig\\src\r\n",
        "Extracting  glpk-4.52\\swig\\src\\site\r\n",
        "Extracting  glpk-4.52\\swig\\src\\site\\apt\r\n",
        "Extracting  glpk-4.52\\swig\\src\\site\\apt\\architecture.apt\r\n",
        "Extracting  glpk-4.52\\swig\\src\\site\\apt\\classes.apt\r\n",
        "Extracting  glpk-4.52\\swig\\src\\site\\apt\\examples.apt\r\n",
        "Extracting  glpk-4.52\\swig\\src\\site\\apt\\gettingStarted.apt.vm\r\n",
        "Extracting  glpk-4.52\\swig\\src\\site\\apt\\index.apt.vm\r\n",
        "Extracting  glpk-4.52\\swig\\src\\site\\apt\\usage.apt.vm\r\n",
        "Extracting  glpk-4.52\\swig\\src\\site\\resources\r\n",
        "Extracting  glpk-4.52\\swig\\src\\site\\resources\\css\r\n",
        "Extracting  glpk-4.52\\swig\\src\\site\\resources\\css\\site.css\r\n",
        "Extracting  glpk-4.52\\swig\\src\\site\\resources\\images\r\n",
        "Extracting  glpk-4.52\\swig\\src\\site\\resources\\images\\application_layers.png\r\n",
        "Extracting  glpk-4.52\\swig\\src\\site\\resources\\images\\favicon.png\r\n",
        "Extracting  glpk-4.52\\swig\\src\\site\\resources\\images\\flower.jpg\r\n",
        "Extracting  glpk-4.52\\swig\\src\\site\\site.xml\r\n",
        "Extracting  glpk-4.52\\THANKS\r\n",
        "Extracting  glpk-4.52\\w32\r\n",
        "Extracting  glpk-4.52\\w32\\Build_GLPK_with_VC10.bat\r\n",
        "Extracting  glpk-4.52\\w32\\Build_GLPK_with_VC10_DLL.bat\r\n",
        "Extracting  glpk-4.52\\w32\\Build_GLPK_with_VC9.bat\r\n",
        "Extracting  glpk-4.52\\w32\\Build_GLPK_with_VC9_DLL.bat\r\n",
        "Extracting  glpk-4.52\\w32\\Build_JNI_with_VC10_DLL.bat\r\n",
        "Extracting  glpk-4.52\\w32\\check_jni.bat\r\n",
        "Extracting  glpk-4.52\\w32\\config_VC\r\n",
        "Extracting  glpk-4.52\\w32\\glpk-java-javadoc.jar\r\n",
        "Extracting  glpk-4.52\\w32\\glpk-java-sources.jar\r\n",
        "Extracting  glpk-4.52\\w32\\glpk-java.jar\r\n",
        "Extracting  glpk-4.52\\w32\\glpk_4_52.def\r\n",
        "Extracting  glpk-4.52\\w32\\glpk_4_52.dll\r\n",
        "Extracting  glpk-4.52\\w32\\glpk_4_52.exp\r\n",
        "Extracting  glpk-4.52\\w"
       ]
      },
      {
       "output_type": "stream",
       "stream": "stdout",
       "text": [
        "32\\glpk_4_52.lib\r\n",
        "Extracting  glpk-4.52\\w32\\glpk_4_52.pdb\r\n",
        "Extracting  glpk-4.52\\w32\\glpk_4_52_java.dll\r\n",
        "Extracting  glpk-4.52\\w32\\glpk_4_52_java.exp\r\n",
        "Extracting  glpk-4.52\\w32\\glpk_4_52_java.lib\r\n",
        "Extracting  glpk-4.52\\w32\\glpk_4_52_java.pdb\r\n",
        "Extracting  glpk-4.52\\w32\\glpk_java_dll.rc\r\n",
        "Extracting  glpk-4.52\\w32\\glpsol.exe\r\n",
        "Extracting  glpk-4.52\\w32\\glpsol.pdb\r\n",
        "Extracting  glpk-4.52\\w32\\Makefile_JNI_VC_DLL\r\n",
        "Extracting  glpk-4.52\\w32\\Makefile_VC\r\n",
        "Extracting  glpk-4.52\\w32\\Makefile_VC_DLL\r\n",
        "Extracting  glpk-4.52\\w32\\readme.txt\r\n",
        "Extracting  glpk-4.52\\w32\\vc100.pdb\r\n",
        "Extracting  glpk-4.52\\w64\r\n",
        "Extracting  glpk-4.52\\w64\\Build_GLPK_with_VC10.bat\r\n",
        "Extracting  glpk-4.52\\w64\\Build_GLPK_with_VC10_DLL.bat\r\n",
        "Extracting  glpk-4.52\\w64\\Build_GLPK_with_VC9.bat\r\n",
        "Extracting  glpk-4.52\\w64\\Build_GLPK_with_VC9_DLL.bat\r\n",
        "Extracting  glpk-4.52\\w64\\Build_JNI_with_VC10_DLL.bat\r\n",
        "Extracting  glpk-4.52\\w64\\check_jni.bat\r\n",
        "Extracting  glpk-4.52\\w64\\config_VC\r\n",
        "Extracting  glpk-4.52\\w64\\glpk-java-javadoc.jar\r\n",
        "Extracting  glpk-4.52\\w64\\glpk-java-sources.jar\r\n",
        "Extracting  glpk-4.52\\w64\\glpk-java.jar\r\n",
        "Extracting  glpk-4.52\\w64\\glpk_4_52.def\r\n",
        "Extracting  glpk-4.52\\w64\\glpk_4_52.dll\r\n",
        "Extracting  glpk-4.52\\w64\\glpk_4_52.exp\r\n",
        "Extracting  glpk-4.52\\w64\\glpk_4_52.lib\r\n",
        "Extracting  glpk-4.52\\w64\\glpk_4_52.pdb\r\n",
        "Extracting  glpk-4.52\\w64\\glpk_4_52_java.dll\r\n",
        "Extracting  glpk-4.52\\w64\\glpk_4_52_java.exp\r\n",
        "Extracting  glpk-4.52\\w64\\glpk_4_52_java.lib\r\n",
        "Extracting  glpk-4.52\\w64\\glpk_4_52_java.pdb\r\n",
        "Extracting  glpk-4.52\\w64\\glpk_java_dll.rc\r\n",
        "Extracting  glpk-4.52\\w64\\glpsol.exe\r\n",
        "Extracting  glpk-4.52\\w64\\glpsol.pdb\r\n",
        "Extracting  glpk-4.52\\w64\\Makefile_JNI_VC_DLL\r\n",
        "Extracting  glpk-4.52\\w64\\makefile_VC\r\n",
        "Extracting  glpk-4.52\\w64\\makefile_VC_DLL\r\n",
        "Extracting  glpk-4.52\\w64\\readme.txt\r\n",
        "Extracting  glpk-4.52\\w64\\vc100.pdb\r\n",
        "\r\n",
        "Everything is Ok\r\n",
        "\r\n",
        "Folders: 32\r\n",
        "Files: 516\r\n",
        "Size:       27874369\r\n",
        "Compressed: 8835628\r\n"
       ]
      },
      {
       "output_type": "stream",
       "stream": "stderr",
       "text": [
        "INFO: Attempting to Create directory C:\\Users\\IBM_ADMIN\\.julia\\v0.3\\GLPK\\deps\\usr\\lib\n"
       ]
      },
      {
       "output_type": "stream",
       "stream": "stderr",
       "text": [
        "INFO: Changing Directory to C:\\Users\\IBM_ADMIN\\.julia\\v0.3\\GLPK\\deps\\src\\glpk-4.52\\w32\n",
        "INFO: Changing Directory to C:\\Users\\IBM_ADMIN\\.julia\\v0.3\\GLPK\\deps\\src\\glpk-4.52\\w64\n"
       ]
      },
      {
       "output_type": "stream",
       "stream": "stderr",
       "text": [
        "INFO: Package database updated\n"
       ]
      }
     ],
     "prompt_number": 5
    },
    {
     "cell_type": "code",
     "collapsed": false,
     "input": [
      "Pkg.add(\"Cbc\")"
     ],
     "language": "python",
     "metadata": {},
     "outputs": [
      {
       "output_type": "stream",
       "stream": "stderr",
       "text": [
        "INFO: Cloning cache of Cbc from git://github.com/JuliaOpt/Cbc.jl.git\n"
       ]
      },
      {
       "output_type": "stream",
       "stream": "stderr",
       "text": [
        "INFO: Installing Cbc v0.1.4\n"
       ]
      },
      {
       "output_type": "stream",
       "stream": "stderr",
       "text": [
        "INFO: Building WinRPM\n"
       ]
      },
      {
       "output_type": "stream",
       "stream": "stderr",
       "text": [
        "INFO: Downloading http://download.opensuse.org/repositories/windows:/mingw:/win32/openSUSE_13.1//repodata/repomd.xml\n"
       ]
      },
      {
       "output_type": "stream",
       "stream": "stderr",
       "text": [
        "INFO: Downloading http://download.opensuse.org/repositories/windows:/mingw:/win64/openSUSE_13.1//repodata/repomd.xml\n"
       ]
      },
      {
       "output_type": "stream",
       "stream": "stderr",
       "text": [
        "INFO: Building Cbc\n"
       ]
      },
      {
       "output_type": "stream",
       "stream": "stderr",
       "text": [
        "INFO: Updating WinRPM package list\n"
       ]
      },
      {
       "output_type": "stream",
       "stream": "stderr",
       "text": [
        "INFO: Downloading http://download.opensuse.org/repositories/windows:/mingw:/win32/openSUSE_13.1//repodata/repomd.xml\n",
        "INFO: Downloading http://download.opensuse.org/repositories/windows:/mingw:/win64/openSUSE_13.1//repodata/repomd.xml\n"
       ]
      },
      {
       "output_type": "stream",
       "stream": "stderr",
       "text": [
        "INFO: Packages to install: zlib1, libbz2-1, Clp, Cgl, libwinpthread1, Osi, libgcc_s_seh1, CoinUtils, libstdc++6, Cbc\n"
       ]
      },
      {
       "output_type": "stream",
       "stream": "stderr",
       "text": [
        "INFO: Downloading: zlib1\n"
       ]
      },
      {
       "output_type": "stream",
       "stream": "stderr",
       "text": [
        "INFO: Extracting: zlib1\n"
       ]
      },
      {
       "output_type": "stream",
       "stream": "stderr",
       "text": [
        "INFO: Downloading: libbz2-1\n"
       ]
      },
      {
       "output_type": "stream",
       "stream": "stderr",
       "text": [
        "INFO: Extracting: libbz2-1\n"
       ]
      },
      {
       "output_type": "stream",
       "stream": "stderr",
       "text": [
        "INFO: Downloading: Clp\n"
       ]
      },
      {
       "output_type": "stream",
       "stream": "stderr",
       "text": [
        "INFO: Extracting: Clp\n"
       ]
      },
      {
       "output_type": "stream",
       "stream": "stderr",
       "text": [
        "INFO: Downloading: Cgl\n"
       ]
      },
      {
       "output_type": "stream",
       "stream": "stderr",
       "text": [
        "INFO: Extracting: Cgl\n"
       ]
      },
      {
       "output_type": "stream",
       "stream": "stderr",
       "text": [
        "INFO: Downloading: libwinpthread1\n",
        "INFO: Extracting: libwinpthread1\n"
       ]
      },
      {
       "output_type": "stream",
       "stream": "stderr",
       "text": [
        "INFO: Downloading: Osi\n",
        "INFO: Extracting: Osi\n"
       ]
      },
      {
       "output_type": "stream",
       "stream": "stderr",
       "text": [
        "INFO: Downloading: libgcc_s_seh1\n",
        "INFO: Extracting: libgcc_s_seh1\n"
       ]
      },
      {
       "output_type": "stream",
       "stream": "stderr",
       "text": [
        "INFO: Downloading: CoinUtils\n"
       ]
      },
      {
       "output_type": "stream",
       "stream": "stderr",
       "text": [
        "INFO: Extracting: CoinUtils\n",
        "INFO: Downloading: libstdc++6\n"
       ]
      },
      {
       "output_type": "stream",
       "stream": "stderr",
       "text": [
        "INFO: Extracting: libstdc++6\n"
       ]
      },
      {
       "output_type": "stream",
       "stream": "stderr",
       "text": [
        "INFO: Downloading: Cbc\n"
       ]
      },
      {
       "output_type": "stream",
       "stream": "stderr",
       "text": [
        "INFO: Extracting: Cbc\n"
       ]
      },
      {
       "output_type": "stream",
       "stream": "stderr",
       "text": [
        "INFO: Complete\n"
       ]
      },
      {
       "output_type": "stream",
       "stream": "stderr",
       "text": [
        "INFO: Package database updated\n"
       ]
      }
     ],
     "prompt_number": 6
    },
    {
     "cell_type": "code",
     "collapsed": false,
     "input": [
      "Pkg.add(\"Clp\")"
     ],
     "language": "python",
     "metadata": {},
     "outputs": [
      {
       "output_type": "stream",
       "stream": "stderr",
       "text": [
        "INFO: Nothing to be done\n"
       ]
      }
     ],
     "prompt_number": 10
    },
    {
     "cell_type": "code",
     "collapsed": false,
     "input": [],
     "language": "python",
     "metadata": {},
     "outputs": [
      {
       "metadata": {},
       "output_type": "pyout",
       "prompt_number": 8,
       "text": [
        "2"
       ]
      }
     ],
     "prompt_number": 8
    },
    {
     "cell_type": "code",
     "collapsed": false,
     "input": [],
     "language": "python",
     "metadata": {},
     "outputs": []
    }
   ],
   "metadata": {}
  }
 ]
}