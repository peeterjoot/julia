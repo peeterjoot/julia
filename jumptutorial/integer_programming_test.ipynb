{
 "metadata": {
  "language": "Julia",
  "name": "",
  "signature": "sha256:e7ca20336a93d7ba1eff292167b0a9f524dfea0bcf0ce2736f13f7babcd780f8"
 },
 "nbformat": 3,
 "nbformat_minor": 0,
 "worksheets": [
  {
   "cells": [
    {
     "cell_type": "code",
     "collapsed": false,
     "input": [
      "\n",
      "\n"
     ],
     "language": "python",
     "metadata": {},
     "outputs": [
      {
       "latex": [
        "$$ \\begin{alignat*}{1}\\min\\quad & 0\\\\\n",
        "\\text{Subject to} \\quad\\end{alignat*}\n",
        " $$"
       ],
       "metadata": {},
       "output_type": "pyout",
       "prompt_number": 1,
       "text": [
        "Feasibility problem with:\n",
        " * 0 linear constraints\n",
        " * 0 variables\n",
        "Solver set to GLPK"
       ]
      }
     ],
     "prompt_number": 1
    },
    {
     "cell_type": "code",
     "collapsed": false,
     "input": [],
     "language": "python",
     "metadata": {},
     "outputs": [
      {
       "metadata": {},
       "output_type": "pyout",
       "prompt_number": 8,
       "text": [
        "5-element Array{Float64,1}:\n",
        " -50.2655\n",
        " -43.9823\n",
        "   0.0   \n",
        "  43.9823\n",
        "  50.2655"
       ]
      }
     ],
     "prompt_number": 8
    },
    {
     "cell_type": "code",
     "collapsed": false,
     "input": [],
     "language": "python",
     "metadata": {},
     "outputs": [
      {
       "latex": [
        "$$ y_{i} free, \\in \\mathbb{Z}, \\quad\\forall i \\in \\{1,2,\\dots,4,5\\} $$"
       ],
       "metadata": {},
       "output_type": "pyout",
       "prompt_number": 10,
       "text": [
        "y[i] free, integer, for all i in {1,2..4,5}"
       ]
      }
     ],
     "prompt_number": 10
    },
    {
     "cell_type": "code",
     "collapsed": false,
     "input": [],
     "language": "python",
     "metadata": {},
     "outputs": [
      {
       "latex": [
        "$$ x $$"
       ],
       "metadata": {},
       "output_type": "pyout",
       "prompt_number": 11,
       "text": [
        "x"
       ]
      }
     ],
     "prompt_number": 11
    },
    {
     "cell_type": "code",
     "collapsed": false,
     "input": [
      "Pkg.add(\"Ipopt\")"
     ],
     "language": "python",
     "metadata": {},
     "outputs": [
      {
       "output_type": "stream",
       "stream": "stderr",
       "text": [
        "INFO: Cloning cache of Ipopt from git://github.com/JuliaOpt/Ipopt.jl.git\n"
       ]
      },
      {
       "output_type": "stream",
       "stream": "stderr",
       "text": [
        "INFO: Installing Ipopt v0.1.11\n"
       ]
      },
      {
       "output_type": "stream",
       "stream": "stderr",
       "text": [
        "INFO: Building Ipopt\n"
       ]
      },
      {
       "output_type": "stream",
       "stream": "stderr",
       "text": [
        "INFO: Attempting to Create directory C:\\Users\\IBM_ADMIN\\.julia\\v0.3\\Ipopt\\deps\\downloads\n"
       ]
      },
      {
       "output_type": "stream",
       "stream": "stderr",
       "text": [
        "INFO: Downloading file http://www.coin-or.org/download/binary/Ipopt/Ipopt-3.11.0-Win32-Win64-dll.7z\n",
        "  % Total    % Received % Xferd  Average Speed   Time    Time     Time  Current\r\n",
        "                                 Dload  Upload   Total   Spent    Left  Speed\r\n",
        "\r",
        "  0     0    0     0    0     0      0      0 --:--:-- --:--:-- --:--:--     0"
       ]
      },
      {
       "output_type": "stream",
       "stream": "stderr",
       "text": [
        "\r",
        " 18 7136k   18 1300k    0     0  1667k      0  0:00:04 --:--:--  0:00:04 1667k"
       ]
      },
      {
       "output_type": "stream",
       "stream": "stderr",
       "text": [
        "\r",
        " 81 7136k   81 5820k    0     0  3272k      0  0:00:02  0:00:01  0:00:01 3272k"
       ]
      },
      {
       "output_type": "stream",
       "stream": "stderr",
       "text": [
        "\r",
        "100 7136k  100 7136k    0     0  3439k      0  0:00:02  0:00:02 --:--:-- 3439k"
       ]
      },
      {
       "output_type": "stream",
       "stream": "stderr",
       "text": [
        "\r\n",
        "INFO: Done downloading file http://www.coin-or.org/download/binary/Ipopt/Ipopt-3.11.0-Win32-Win64-dll.7z\n",
        "INFO: Attempting to Create directory C:\\Users\\IBM_ADMIN\\.julia\\v0.3\\Ipopt\\deps\\src\n",
        "INFO: Attempting to Create directory C:\\Users\\IBM_ADMIN\\.julia\\v0.3\\Ipopt\\deps\n",
        "INFO: Directory C:\\Users\\IBM_ADMIN\\.julia\\v0.3\\Ipopt\\deps already created\n",
        "INFO: Attempting to Create directory C:\\Users\\IBM_ADMIN\\.julia\\v0.3\\Ipopt\\deps\\src\\lib\\Win32\n"
       ]
      },
      {
       "output_type": "stream",
       "stream": "stdout",
       "text": [
        "\r\n",
        "7-Zip [64] 9.20  Copyright (c) 1999-2010 Igor Pavlov  2010-11-18\r\n",
        "\r\n",
        "Processing archive: C:\\Users\\IBM_ADMIN\\.julia\\v0.3\\Ipopt\\deps\\downloads\\Ipopt-3.11.0-Win32-Win64-dll.7z\r\n",
        "\r\n",
        "Extracting  include\\coin\\IpReturnCodes.inc\r\n",
        "Extracting  include\\coin\\config_ipopt.h\r\n",
        "Extracting  include\\coin\\config_ipopt_default.h\r\n",
        "Extracting  include\\coin\\IpoptConfig.h\r\n",
        "Extracting  include\\coin\\IpReturnCodes.h\r\n",
        "Extracting  include\\coin\\IpReturnCodes_inc.h\r\n",
        "Extracting  include\\coin\\IpStdCInterface.h\r\n",
        "Extracting  include\\coin\\IpAlgTypes.hpp\r\n",
        "Extracting  include\\coin\\IpCachedResults.hpp\r\n",
        "Extracting  include\\coin\\IpDebug.hpp\r\n",
        "Extracting  include\\coin\\IpException.hpp\r\n",
        "Extracting  include\\coin\\IpIpoptApplication.hpp\r\n",
        "Extracting  include\\coin\\IpIpoptCalculatedQuantities.hpp\r\n",
        "Extracting  include\\coin\\IpJournalist.hpp\r\n",
        "Extracting  include\\coin\\IpMatrix.hpp\r\n",
        "Extracting  include\\coin\\IpNLP.hpp\r\n",
        "Extracting  include\\coin\\IpObserver.hpp\r\n",
        "Extracting  include\\coin\\IpOptionsList.hpp\r\n",
        "Extracting  include\\coin\\IpReferenced.hpp\r\n",
        "Extracting  include\\coin\\IpRegOptions.hpp\r\n",
        "Extracting  include\\coin\\IpReturnCodes.hpp\r\n",
        "Extracting  include\\coin\\IpSmartPtr.hpp\r\n",
        "Extracting  include\\coin\\IpSolveStatistics.hpp\r\n",
        "Extracting  include\\coin\\IpSymMatrix.hpp\r\n",
        "Extracting  include\\coin\\IpTaggedObject.hpp\r\n",
        "Extracting  include\\coin\\IpTimedTask.hpp\r\n",
        "Extracting  include\\coin\\IpTNLP.hpp\r\n",
        "Extracting  include\\coin\\IpTNLPReducer.hpp\r\n",
        "Extracting  include\\coin\\IpTypes.hpp\r\n",
        "Extracting  include\\coin\\IpUtils.hpp\r\n",
        "Extracting  include\\coin\\IpVector.hpp\r\n",
        "Extracting  lib\\README.TXT\r\n",
        "Extracting  lib\\x64\\ReleaseMKL\\IpOpt-vc10.lib\r\n",
        "Extracting  lib\\Win32\\ReleaseMKL\\IpOpt-vc10.lib\r\n",
        "Extracting  lib\\x64\\ReleaseMKL\\Ipopt-vc8.lib\r\n",
        "Extracting  lib\\Win32\\ReleaseMKL\\Ipopt-vc8.lib\r\n",
        "Extracting  lib\\x64\\ReleaseMKL\\IpOptFSS.lib\r\n",
        "Extracting  lib\\Win32\\ReleaseMKL\\IpOptFSS.lib\r\n",
        "Extracting  lib\\x64\\ReleaseMKL\\hs071_cpp-vc10.exe\r\n",
        "Extracting  lib\\Win32\\ReleaseMKL\\hs071_cpp-vc10.exe\r\n",
        "Extracting  lib\\x64\\ReleaseMKL\\hs071_cpp-vc8.exe\r\n",
        "Extracting  lib\\Win32\\ReleaseMKL\\hs071_cpp-vc8.exe\r\n",
        "Extracting  lib\\x64\\ReleaseMKL\\IpOpt-vc10.dll\r\n",
        "Extracting  lib\\Win32\\ReleaseMKL\\IpOpt-vc10.dll\r\n",
        "Extracting  lib\\x64\\ReleaseMKL\\Ipopt-vc8.dll\r\n",
        "Extracting  lib\\Win32\\ReleaseMKL\\Ipopt-vc8.dll\r\n",
        "Extracting  lib\\x64\\ReleaseMKL\\IpOptFSS.dll\r\n",
        "Extracting  lib\\Win32\\ReleaseMKL\\IpOptFSS.dll\r\n",
        "Extracting  lib\\Win32\\ReleaseMKL\\libiomp5md.dll\r\n",
        "Extracting  lib\\x64\\ReleaseMKL\\libiomp5md.dll\r\n",
        "Extracting  lib\\x64\\ReleaseMKL\\msvcp100.dll\r\n",
        "Extracting  lib\\Win32\\ReleaseMKL\\msvcp100.dll\r\n",
        "Extracting  lib\\Win32\\ReleaseMKL\\msvcr100.dll\r\n",
        "Extracting  lib\\x64\\ReleaseMKL\\msvcr100.dll\r\n",
        "Extracting  lib\\x64\\ReleaseMKL\r\n",
        "Extracting  lib\\x64\r\n",
        "Extracting  lib\\Win32\\ReleaseMKL\r\n",
        "Extracting  lib\\Win32\r\n",
        "Extracting  lib\r\n",
        "Extracting  include\\coin\r\n",
        "Extracting  include\r\n",
        "\r\n",
        "Everything is Ok\r\n",
        "\r\n",
        "Folders: 7\r\n",
        "Files: 54\r\n",
        "Size:       25722526\r\n",
        "Compressed: 7307951\r\n"
       ]
      },
      {
       "output_type": "stream",
       "stream": "stderr",
       "text": [
        "INFO: Attempting to Create directory C:\\Users\\IBM_ADMIN\\.julia\\v0.3\\Ipopt\\deps\\usr\\lib\n"
       ]
      },
      {
       "output_type": "stream",
       "stream": "stderr",
       "text": [
        "INFO: Changing Directory to C:\\Users\\IBM_ADMIN\\.julia\\v0.3\\Ipopt\\deps\\src\\lib\\x64\\ReleaseMKL\n"
       ]
      },
      {
       "output_type": "stream",
       "stream": "stderr",
       "text": [
        "INFO: Package database updated\n"
       ]
      }
     ],
     "prompt_number": 20
    },
    {
     "cell_type": "code",
     "collapsed": false,
     "input": [
      "using JuMP\n",
      "#using GLPKMathProgInterface\n",
      "using Ipopt\n",
      "\n",
      "#model = Model(solver = GLPKSolverMIP()) \n",
      "model = Model(solver = Ipopt()) \n",
      "#model = Model() # Gurobi \n",
      "\n",
      "\n",
      "a = 2 * pi * [ -8 ; -7 ; 0 ; 7 ; 8 ] ;\n",
      "m = length( a ) ;\n",
      "\n",
      "@defVar(model, y[1:5], Int)\n",
      "\n",
      "@defVar(model, x >=0)\n",
      "\n",
      "for i in [1:m]\n",
      "    @addConstraint(model, x*y[i] == a[i])\n",
      "end\n",
      "\n",
      "println(\"model: $model\")\n",
      "\n",
      "statusMipModel = solve(model)\n",
      "print(\"Status of the problem is \", statusMipModel, \"\\n\")\n",
      "\n",
      "if statusMipModel == :Optimal\n",
      "    print (\"Optimal objective value = \", getObjectiveValue(model), \"\\nOptimal x = \", getValue(x))\n",
      "end\n",
      "\n",
      "\n"
     ],
     "language": "python",
     "metadata": {},
     "outputs": [
      {
       "ename": "LoadError",
       "evalue": "type: apply: expected Function, got Module\nwhile loading In[24], in expression starting on line 6",
       "output_type": "pyerr",
       "traceback": [
        "type: apply: expected Function, got Module\nwhile loading In[24], in expression starting on line 6",
        ""
       ]
      }
     ],
     "prompt_number": 24
    },
    {
     "cell_type": "code",
     "collapsed": false,
     "input": [],
     "language": "python",
     "metadata": {},
     "outputs": []
    }
   ],
   "metadata": {}
  }
 ]
}